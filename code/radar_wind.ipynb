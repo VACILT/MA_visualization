{
 "cells": [
  {
   "cell_type": "code",
   "execution_count": 1,
   "metadata": {},
   "outputs": [
    {
     "name": "stderr",
     "output_type": "stream",
     "text": [
      "C:\\ProgramData\\Anaconda3\\lib\\site-packages\\dask\\config.py:131: YAMLLoadWarning: calling yaml.load() without Loader=... is deprecated, as the default Loader is unsafe. Please read https://msg.pyyaml.org/load for full details.\n",
      "  data = yaml.load(f.read()) or {}\n"
     ]
    }
   ],
   "source": [
    "import xarray as xr\n",
    "import pandas as pd\n",
    "import matplotlib.pyplot as plt"
   ]
  },
  {
   "cell_type": "code",
   "execution_count": 2,
   "metadata": {},
   "outputs": [],
   "source": [
    "#root_path = '/projekt1/radar/webtool/'\n",
    "root_path = '/project/MA_vis/MA_visualization/data/'"
   ]
  },
  {
   "cell_type": "code",
   "execution_count": 3,
   "metadata": {},
   "outputs": [
    {
     "data": {
      "text/plain": [
       "<xarray.DataArray 'alt' (phony_dim_0: 23, phony_dim_1: 1)>\n",
       "array([[ 70.],\n",
       "       [ 72.],\n",
       "       [ 74.],\n",
       "       [ 76.],\n",
       "       [ 78.],\n",
       "       [ 80.],\n",
       "       [ 82.],\n",
       "       [ 84.],\n",
       "       [ 86.],\n",
       "       [ 88.],\n",
       "       [ 90.],\n",
       "       [ 92.],\n",
       "       [ 94.],\n",
       "       [ 96.],\n",
       "       [ 98.],\n",
       "       [100.],\n",
       "       [102.],\n",
       "       [104.],\n",
       "       [106.],\n",
       "       [108.],\n",
       "       [110.],\n",
       "       [112.],\n",
       "       [114.]])\n",
       "Dimensions without coordinates: phony_dim_0, phony_dim_1\n",
       "Attributes:\n",
       "    altitude:  altitude / km"
      ]
     },
     "execution_count": 3,
     "metadata": {},
     "output_type": "execute_result"
    }
   ],
   "source": [
    "ds_info = xr.open_dataset(f'{root_path}MR_wind_2021_01_07.h5', group = 'info')\n",
    "ds_info['alt']"
   ]
  },
  {
   "cell_type": "code",
   "execution_count": 4,
   "metadata": {},
   "outputs": [],
   "source": [
    "ds_test = xr.open_dataset(f'{root_path}MR_wind_2021_01_07.h5')"
   ]
  },
  {
   "cell_type": "code",
   "execution_count": null,
   "metadata": {},
   "outputs": [],
   "source": []
  }
 ],
 "metadata": {
  "jupytext": {
   "formats": "ipynb,py:light"
  },
  "kernelspec": {
   "display_name": "Python 3",
   "language": "python",
   "name": "python3"
  },
  "language_info": {
   "codemirror_mode": {
    "name": "ipython",
    "version": 3
   },
   "file_extension": ".py",
   "mimetype": "text/x-python",
   "name": "python",
   "nbconvert_exporter": "python",
   "pygments_lexer": "ipython3",
   "version": "3.7.0"
  }
 },
 "nbformat": 4,
 "nbformat_minor": 4
}
